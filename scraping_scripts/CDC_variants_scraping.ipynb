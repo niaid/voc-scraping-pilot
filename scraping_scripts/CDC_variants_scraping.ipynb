{
 "cells": [
  {
   "cell_type": "markdown",
   "metadata": {},
   "source": [
    "This script was last run on August 18, 2021-- website structures likely do not look the same today and code will not output the same results if re-run. It scrapes the CDC SARS-CoV-2 variants tracking website (https://www.cdc.gov/coronavirus/2019-ncov/variants/variant-info.html?CDC_AA_refVal=https%3A%2F%2Fwww.cdcgov%2Fcoronavirus%2F2019-ncov%2Fcases-updates%2Fvariant-surveillance%2Fvariant-info.html) and exports their names and VOI/VOC/VUM status as a .csv to a specified file. The scraping portion is loosely based on this tutorial https://www.pluralsight.com/guides/extracting-data-html-beautifulsoup/ with additional data wrangling written by myself. "
   ]
  },
  {
   "cell_type": "code",
   "execution_count": 7,
   "metadata": {},
   "outputs": [],
   "source": [
    "#install packages to open and scrape websites - don't need to do each time\n",
    "#!pip install requests \n",
    "#!pip install beautifulsoup4 \n",
    "#!pip install pandas\n",
    "#!pip install numpy\n",
    "#!pip install lxml\n",
    "#!pip install datetime"
   ]
  },
  {
   "cell_type": "code",
   "execution_count": 1,
   "metadata": {},
   "outputs": [],
   "source": [
    "#call packages\n",
    "import requests\n",
    "from bs4 import BeautifulSoup\n",
    "import pandas as pd\n",
    "import numpy as np\n",
    "import lxml\n",
    "import datetime"
   ]
  },
  {
   "cell_type": "code",
   "execution_count": 3,
   "metadata": {},
   "outputs": [],
   "source": [
    "#set url for CDC variants website\n",
    "url=\"https://www.cdc.gov/coronavirus/2019-ncov/variants/variant-info.html?CDC_AA_refVal=https%3A%2F%2Fwww.cdc.gov%2Fcoronavirus%2F2019-ncov%2Fcases-updates%2Fvariant-surveillance%2Fvariant-info.html\"\n",
    "\n",
    "#retrieve HTML data with a get request\n",
    "html_content = requests.get(url).text\n",
    "#print(html_content)\n",
    "\n",
    "# Parse the html content\n",
    "soup = BeautifulSoup(html_content, \"lxml\")\n",
    "#print(soup.prettify()) # print the parsed data of html"
   ]
  },
  {
   "cell_type": "markdown",
   "metadata": {},
   "source": [
    "I want to extract tables for just VOIs and VOCs. Below are HTML lines corresponding to these tables. both tables in (delete space after<): < div class=\"col-md-12 splash-col\"> VOI heading:< h3> Selected Characteristics of SARS-CoV-2 Variants of Interest< /h3> VOI table:< div class=\"step-table m-3\" role=\"table\"> (right under heading) VOC heading: < h3> Selected Characteristics of SARS-CoV-2 Variants of Concern< /h3> VOC table: < div class=\"step-table m-3\" role=\"table\">"
   ]
  },
  {
   "cell_type": "code",
   "execution_count": 4,
   "metadata": {},
   "outputs": [],
   "source": [
    "#pull tables by searching for associated HTML tag\n",
    "table_obj = soup.find_all(\"div\", attrs={\"class\": \"col-md-12 splash-col\"})\n",
    "\n",
    "#select tables of interest\n",
    "tables=table_obj[2]\n",
    "#look at object\n",
    "tables\n",
    "#contains both VOI and VOC tables"
   ]
  },
  {
   "cell_type": "code",
   "execution_count": 9,
   "metadata": {},
   "outputs": [
    {
     "data": {
      "text/plain": [
       "['Pango Lineage: B.1.525',\n",
       " 'Pango Lineage: B.1.526',\n",
       " 'Pango Lineage: B.1.617.1',\n",
       " 'Pango Lineage: B.1.617.3']"
      ]
     },
     "execution_count": 9,
     "metadata": {},
     "output_type": "execute_result"
    }
   ],
   "source": [
    "#separate VOI\n",
    "int_html=tables.find(\"div\", attrs={\"role\":\"rowgroup\"})\n",
    "\n",
    "#check all variants are there and save as list\n",
    "int_names1=[]\n",
    "for i in int_html.find_all(\"strong\", attrs={\"class\": \"pt-3 variant-name\"}):\n",
    "    int_names1.append(i.get_text().strip())\n",
    "#Pulls WHO label now, so I guess we need to remove that\n",
    "\n",
    "#remove WHO label lines\n",
    "int_names2=[]\n",
    "for i in int_names1:\n",
    "    if \"Pango\" in i:\n",
    "        int_names2.append(i)\n",
    "int_names2"
   ]
  },
  {
   "cell_type": "code",
   "execution_count": 10,
   "metadata": {},
   "outputs": [
    {
     "data": {
      "text/plain": [
       "['B.1.525', 'B.1.526', 'B.1.617.1', 'B.1.617.3']"
      ]
     },
     "execution_count": 10,
     "metadata": {},
     "output_type": "execute_result"
    }
   ],
   "source": [
    "#strip to just get lineage\n",
    "split_voi=[]\n",
    "for i in range(len(int_names2)):\n",
    "    split_voi.append(int_names2[i].split(\":\",-1))\n",
    "        \n",
    "#just collect lineages\n",
    "voi_new=[]\n",
    "for i in range(len(split_voi)):\n",
    "    voi_new.append(split_voi[i][1].strip())\n",
    "voi_new"
   ]
  },
  {
   "cell_type": "code",
   "execution_count": 11,
   "metadata": {},
   "outputs": [
    {
     "data": {
      "text/html": [
       "<div>\n",
       "<style scoped>\n",
       "    .dataframe tbody tr th:only-of-type {\n",
       "        vertical-align: middle;\n",
       "    }\n",
       "\n",
       "    .dataframe tbody tr th {\n",
       "        vertical-align: top;\n",
       "    }\n",
       "\n",
       "    .dataframe thead th {\n",
       "        text-align: right;\n",
       "    }\n",
       "</style>\n",
       "<table border=\"1\" class=\"dataframe\">\n",
       "  <thead>\n",
       "    <tr style=\"text-align: right;\">\n",
       "      <th></th>\n",
       "      <th>0</th>\n",
       "      <th>1</th>\n",
       "    </tr>\n",
       "  </thead>\n",
       "  <tbody>\n",
       "    <tr>\n",
       "      <th>0</th>\n",
       "      <td>B.1.525</td>\n",
       "      <td>VOI</td>\n",
       "    </tr>\n",
       "    <tr>\n",
       "      <th>1</th>\n",
       "      <td>B.1.526</td>\n",
       "      <td>VOI</td>\n",
       "    </tr>\n",
       "    <tr>\n",
       "      <th>2</th>\n",
       "      <td>B.1.617.1</td>\n",
       "      <td>VOI</td>\n",
       "    </tr>\n",
       "    <tr>\n",
       "      <th>3</th>\n",
       "      <td>B.1.617.3</td>\n",
       "      <td>VOI</td>\n",
       "    </tr>\n",
       "  </tbody>\n",
       "</table>\n",
       "</div>"
      ],
      "text/plain": [
       "           0    1\n",
       "0    B.1.525  VOI\n",
       "1    B.1.526  VOI\n",
       "2  B.1.617.1  VOI\n",
       "3  B.1.617.3  VOI"
      ]
     },
     "execution_count": 11,
     "metadata": {},
     "output_type": "execute_result"
    }
   ],
   "source": [
    "#make VOI data frame with column VOI\n",
    "voi_col=list([\"VOI\"]*len(voi_new))\n",
    "\n",
    "voi_df=pd.DataFrame([voi_new,voi_col]).transpose()\n",
    "voi_df"
   ]
  },
  {
   "cell_type": "code",
   "execution_count": null,
   "metadata": {},
   "outputs": [],
   "source": []
  },
  {
   "cell_type": "code",
   "execution_count": 12,
   "metadata": {},
   "outputs": [
    {
     "data": {
      "text/plain": [
       "['Pango Lineage: B.1.1.7',\n",
       " 'WHO Label: Beta',\n",
       " 'Pango Lineage(s): B.1.351, B.1.351.2, B.1.351.3',\n",
       " 'Pango Lineage: B.1.617.2, AY.1, AY.2, AY.3, AY.4, AY.5, AY.6, AY.7, AY.8, AY.9, AY.10, AY.11, AY.12',\n",
       " 'WHO Label: Gamma',\n",
       " 'Pango Lineage(s): P.1, P.1.1, P.1.2']"
      ]
     },
     "execution_count": 12,
     "metadata": {},
     "output_type": "execute_result"
    }
   ],
   "source": [
    "#separate VOC\n",
    "con_html=int_html.find_next(\"div\", attrs={\"role\":\"rowgroup\"})\n",
    "\n",
    "#check all variants are there and save as list\n",
    "con_names1=[]\n",
    "for i in con_html.find_all(\"strong\", attrs={\"class\":[\"pt-3 variant-name\",\"variant-name\"]}):\n",
    "    con_names1.append(i.get_text().strip())\n",
    "con_names1\n",
    "#pulls all variants, but also needs to be cleaned up in fun new ways\n"
   ]
  },
  {
   "cell_type": "code",
   "execution_count": 13,
   "metadata": {},
   "outputs": [
    {
     "data": {
      "text/plain": [
       "['Pango Lineage: B.1.1.7',\n",
       " 'Pango Lineage(s): B.1.351, B.1.351.2, B.1.351.3',\n",
       " 'Pango Lineage: B.1.617.2, AY.1, AY.2, AY.3, AY.4, AY.5, AY.6, AY.7, AY.8, AY.9, AY.10, AY.11, AY.12',\n",
       " 'Pango Lineage(s): P.1, P.1.1, P.1.2']"
      ]
     },
     "execution_count": 13,
     "metadata": {},
     "output_type": "execute_result"
    }
   ],
   "source": [
    "#remove WHO label lines from voc list\n",
    "con_names2=[]\n",
    "for i in con_names1:\n",
    "    if \"Pango\" in i:\n",
    "        con_names2.append(i)\n",
    "con_names2"
   ]
  },
  {
   "cell_type": "code",
   "execution_count": 14,
   "metadata": {},
   "outputs": [
    {
     "data": {
      "text/plain": [
       "['B.1.1.7',\n",
       " 'B.1.351, B.1.351.2, B.1.351.3',\n",
       " 'B.1.617.2, AY.1, AY.2, AY.3, AY.4, AY.5, AY.6, AY.7, AY.8, AY.9, AY.10, AY.11, AY.12',\n",
       " 'P.1, P.1.1, P.1.2']"
      ]
     },
     "execution_count": 14,
     "metadata": {},
     "output_type": "execute_result"
    }
   ],
   "source": [
    "#split to remove text\n",
    "split_voc1=[]\n",
    "for i in range(len(con_names2)):\n",
    "    split_voc1.append(con_names2[i].split(\":\",-1))        \n",
    "\n",
    "#just collect lineages\n",
    "split_voc2=[]\n",
    "for i in range(len(split_voc1)):\n",
    "    split_voc2.append(split_voc1[i][1].strip())\n",
    "split_voc2"
   ]
  },
  {
   "cell_type": "code",
   "execution_count": 15,
   "metadata": {},
   "outputs": [
    {
     "data": {
      "text/plain": [
       "[['B.1.1.7'],\n",
       " ['B.1.351,', 'B.1.351.2,', 'B.1.351.3'],\n",
       " ['B.1.617.2,',\n",
       "  'AY.1,',\n",
       "  'AY.2,',\n",
       "  'AY.3,',\n",
       "  'AY.4,',\n",
       "  'AY.5,',\n",
       "  'AY.6,',\n",
       "  'AY.7,',\n",
       "  'AY.8,',\n",
       "  'AY.9,',\n",
       "  'AY.10,',\n",
       "  'AY.11,',\n",
       "  'AY.12'],\n",
       " ['P.1,', 'P.1.1,', 'P.1.2']]"
      ]
     },
     "execution_count": 15,
     "metadata": {},
     "output_type": "execute_result"
    }
   ],
   "source": [
    "#split lineages to get all in one column\n",
    "#do the split\n",
    "split_voc3=[]\n",
    "for i in range(len(split_voc2)):\n",
    "    split_voc3.append(split_voc2[i].split(\" \",-1))        \n",
    "split_voc3"
   ]
  },
  {
   "cell_type": "code",
   "execution_count": 16,
   "metadata": {},
   "outputs": [
    {
     "data": {
      "text/plain": [
       "['B.1.1.7',\n",
       " 'B.1.351,',\n",
       " 'B.1.351.2,',\n",
       " 'B.1.351.3',\n",
       " 'B.1.617.2,',\n",
       " 'AY.1,',\n",
       " 'AY.2,',\n",
       " 'AY.3,',\n",
       " 'AY.4,',\n",
       " 'AY.5,',\n",
       " 'AY.6,',\n",
       " 'AY.7,',\n",
       " 'AY.8,',\n",
       " 'AY.9,',\n",
       " 'AY.10,',\n",
       " 'AY.11,',\n",
       " 'AY.12',\n",
       " 'P.1,',\n",
       " 'P.1.1,',\n",
       " 'P.1.2']"
      ]
     },
     "execution_count": 16,
     "metadata": {},
     "output_type": "execute_result"
    }
   ],
   "source": [
    "#flatten list\n",
    "def unlist(e):\n",
    "    if type(e) == list:\n",
    "        for v2 in e:\n",
    "            for v3 in unlist(v2):\n",
    "                yield v3\n",
    "    else:\n",
    "        yield e\n",
    "voc_list=[]\n",
    "for v in unlist(split_voc3):\n",
    "    voc_list.append(v.strip())\n",
    "voc_list"
   ]
  },
  {
   "cell_type": "code",
   "execution_count": 17,
   "metadata": {},
   "outputs": [
    {
     "data": {
      "text/plain": [
       "['B.1.1.7',\n",
       " 'B.1.351',\n",
       " 'B.1.351.2',\n",
       " 'B.1.351.3',\n",
       " 'B.1.617.2',\n",
       " 'AY.1',\n",
       " 'AY.2',\n",
       " 'AY.3',\n",
       " 'AY.4',\n",
       " 'AY.5',\n",
       " 'AY.6',\n",
       " 'AY.7',\n",
       " 'AY.8',\n",
       " 'AY.9',\n",
       " 'AY.10',\n",
       " 'AY.11',\n",
       " 'AY.12',\n",
       " 'P.1',\n",
       " 'P.1.1',\n",
       " 'P.1.2']"
      ]
     },
     "execution_count": 17,
     "metadata": {},
     "output_type": "execute_result"
    }
   ],
   "source": [
    "#delete extra commas\n",
    "voc_new=[]\n",
    "for i in range(len(voc_list)):\n",
    "    voc_new.append(voc_list[i].replace(\",\",\" \").strip())\n",
    "voc_new"
   ]
  },
  {
   "cell_type": "code",
   "execution_count": 18,
   "metadata": {},
   "outputs": [
    {
     "data": {
      "text/html": [
       "<div>\n",
       "<style scoped>\n",
       "    .dataframe tbody tr th:only-of-type {\n",
       "        vertical-align: middle;\n",
       "    }\n",
       "\n",
       "    .dataframe tbody tr th {\n",
       "        vertical-align: top;\n",
       "    }\n",
       "\n",
       "    .dataframe thead th {\n",
       "        text-align: right;\n",
       "    }\n",
       "</style>\n",
       "<table border=\"1\" class=\"dataframe\">\n",
       "  <thead>\n",
       "    <tr style=\"text-align: right;\">\n",
       "      <th></th>\n",
       "      <th>0</th>\n",
       "      <th>1</th>\n",
       "    </tr>\n",
       "  </thead>\n",
       "  <tbody>\n",
       "    <tr>\n",
       "      <th>0</th>\n",
       "      <td>B.1.1.7</td>\n",
       "      <td>VOC</td>\n",
       "    </tr>\n",
       "    <tr>\n",
       "      <th>1</th>\n",
       "      <td>B.1.351</td>\n",
       "      <td>VOC</td>\n",
       "    </tr>\n",
       "    <tr>\n",
       "      <th>2</th>\n",
       "      <td>B.1.351.2</td>\n",
       "      <td>VOC</td>\n",
       "    </tr>\n",
       "    <tr>\n",
       "      <th>3</th>\n",
       "      <td>B.1.351.3</td>\n",
       "      <td>VOC</td>\n",
       "    </tr>\n",
       "    <tr>\n",
       "      <th>4</th>\n",
       "      <td>B.1.617.2</td>\n",
       "      <td>VOC</td>\n",
       "    </tr>\n",
       "    <tr>\n",
       "      <th>5</th>\n",
       "      <td>AY.1</td>\n",
       "      <td>VOC</td>\n",
       "    </tr>\n",
       "    <tr>\n",
       "      <th>6</th>\n",
       "      <td>AY.2</td>\n",
       "      <td>VOC</td>\n",
       "    </tr>\n",
       "    <tr>\n",
       "      <th>7</th>\n",
       "      <td>AY.3</td>\n",
       "      <td>VOC</td>\n",
       "    </tr>\n",
       "    <tr>\n",
       "      <th>8</th>\n",
       "      <td>AY.4</td>\n",
       "      <td>VOC</td>\n",
       "    </tr>\n",
       "    <tr>\n",
       "      <th>9</th>\n",
       "      <td>AY.5</td>\n",
       "      <td>VOC</td>\n",
       "    </tr>\n",
       "    <tr>\n",
       "      <th>10</th>\n",
       "      <td>AY.6</td>\n",
       "      <td>VOC</td>\n",
       "    </tr>\n",
       "    <tr>\n",
       "      <th>11</th>\n",
       "      <td>AY.7</td>\n",
       "      <td>VOC</td>\n",
       "    </tr>\n",
       "    <tr>\n",
       "      <th>12</th>\n",
       "      <td>AY.8</td>\n",
       "      <td>VOC</td>\n",
       "    </tr>\n",
       "    <tr>\n",
       "      <th>13</th>\n",
       "      <td>AY.9</td>\n",
       "      <td>VOC</td>\n",
       "    </tr>\n",
       "    <tr>\n",
       "      <th>14</th>\n",
       "      <td>AY.10</td>\n",
       "      <td>VOC</td>\n",
       "    </tr>\n",
       "    <tr>\n",
       "      <th>15</th>\n",
       "      <td>AY.11</td>\n",
       "      <td>VOC</td>\n",
       "    </tr>\n",
       "    <tr>\n",
       "      <th>16</th>\n",
       "      <td>AY.12</td>\n",
       "      <td>VOC</td>\n",
       "    </tr>\n",
       "    <tr>\n",
       "      <th>17</th>\n",
       "      <td>P.1</td>\n",
       "      <td>VOC</td>\n",
       "    </tr>\n",
       "    <tr>\n",
       "      <th>18</th>\n",
       "      <td>P.1.1</td>\n",
       "      <td>VOC</td>\n",
       "    </tr>\n",
       "    <tr>\n",
       "      <th>19</th>\n",
       "      <td>P.1.2</td>\n",
       "      <td>VOC</td>\n",
       "    </tr>\n",
       "  </tbody>\n",
       "</table>\n",
       "</div>"
      ],
      "text/plain": [
       "            0    1\n",
       "0     B.1.1.7  VOC\n",
       "1     B.1.351  VOC\n",
       "2   B.1.351.2  VOC\n",
       "3   B.1.351.3  VOC\n",
       "4   B.1.617.2  VOC\n",
       "5        AY.1  VOC\n",
       "6        AY.2  VOC\n",
       "7        AY.3  VOC\n",
       "8        AY.4  VOC\n",
       "9        AY.5  VOC\n",
       "10       AY.6  VOC\n",
       "11       AY.7  VOC\n",
       "12       AY.8  VOC\n",
       "13       AY.9  VOC\n",
       "14      AY.10  VOC\n",
       "15      AY.11  VOC\n",
       "16      AY.12  VOC\n",
       "17        P.1  VOC\n",
       "18      P.1.1  VOC\n",
       "19      P.1.2  VOC"
      ]
     },
     "execution_count": 18,
     "metadata": {},
     "output_type": "execute_result"
    }
   ],
   "source": [
    "#make VOC data frame with column VOC\n",
    "voc_col=list([\"VOC\"]*len(voc_new))\n",
    "\n",
    "voc_df=pd.DataFrame([voc_new,voc_col]).transpose()\n",
    "voc_df"
   ]
  },
  {
   "cell_type": "code",
   "execution_count": 19,
   "metadata": {},
   "outputs": [
    {
     "data": {
      "text/html": [
       "<div>\n",
       "<style scoped>\n",
       "    .dataframe tbody tr th:only-of-type {\n",
       "        vertical-align: middle;\n",
       "    }\n",
       "\n",
       "    .dataframe tbody tr th {\n",
       "        vertical-align: top;\n",
       "    }\n",
       "\n",
       "    .dataframe thead th {\n",
       "        text-align: right;\n",
       "    }\n",
       "</style>\n",
       "<table border=\"1\" class=\"dataframe\">\n",
       "  <thead>\n",
       "    <tr style=\"text-align: right;\">\n",
       "      <th></th>\n",
       "      <th>0</th>\n",
       "      <th>1</th>\n",
       "    </tr>\n",
       "  </thead>\n",
       "  <tbody>\n",
       "    <tr>\n",
       "      <th>0</th>\n",
       "      <td>B.1.525</td>\n",
       "      <td>VOI</td>\n",
       "    </tr>\n",
       "    <tr>\n",
       "      <th>1</th>\n",
       "      <td>B.1.526</td>\n",
       "      <td>VOI</td>\n",
       "    </tr>\n",
       "    <tr>\n",
       "      <th>2</th>\n",
       "      <td>B.1.617.1</td>\n",
       "      <td>VOI</td>\n",
       "    </tr>\n",
       "    <tr>\n",
       "      <th>3</th>\n",
       "      <td>B.1.617.3</td>\n",
       "      <td>VOI</td>\n",
       "    </tr>\n",
       "    <tr>\n",
       "      <th>4</th>\n",
       "      <td>B.1.1.7</td>\n",
       "      <td>VOC</td>\n",
       "    </tr>\n",
       "    <tr>\n",
       "      <th>5</th>\n",
       "      <td>B.1.351</td>\n",
       "      <td>VOC</td>\n",
       "    </tr>\n",
       "    <tr>\n",
       "      <th>6</th>\n",
       "      <td>B.1.351.2</td>\n",
       "      <td>VOC</td>\n",
       "    </tr>\n",
       "    <tr>\n",
       "      <th>7</th>\n",
       "      <td>B.1.351.3</td>\n",
       "      <td>VOC</td>\n",
       "    </tr>\n",
       "    <tr>\n",
       "      <th>8</th>\n",
       "      <td>B.1.617.2</td>\n",
       "      <td>VOC</td>\n",
       "    </tr>\n",
       "    <tr>\n",
       "      <th>9</th>\n",
       "      <td>AY.1</td>\n",
       "      <td>VOC</td>\n",
       "    </tr>\n",
       "    <tr>\n",
       "      <th>10</th>\n",
       "      <td>AY.2</td>\n",
       "      <td>VOC</td>\n",
       "    </tr>\n",
       "    <tr>\n",
       "      <th>11</th>\n",
       "      <td>AY.3</td>\n",
       "      <td>VOC</td>\n",
       "    </tr>\n",
       "    <tr>\n",
       "      <th>12</th>\n",
       "      <td>AY.4</td>\n",
       "      <td>VOC</td>\n",
       "    </tr>\n",
       "    <tr>\n",
       "      <th>13</th>\n",
       "      <td>AY.5</td>\n",
       "      <td>VOC</td>\n",
       "    </tr>\n",
       "    <tr>\n",
       "      <th>14</th>\n",
       "      <td>AY.6</td>\n",
       "      <td>VOC</td>\n",
       "    </tr>\n",
       "    <tr>\n",
       "      <th>15</th>\n",
       "      <td>AY.7</td>\n",
       "      <td>VOC</td>\n",
       "    </tr>\n",
       "    <tr>\n",
       "      <th>16</th>\n",
       "      <td>AY.8</td>\n",
       "      <td>VOC</td>\n",
       "    </tr>\n",
       "    <tr>\n",
       "      <th>17</th>\n",
       "      <td>AY.9</td>\n",
       "      <td>VOC</td>\n",
       "    </tr>\n",
       "    <tr>\n",
       "      <th>18</th>\n",
       "      <td>AY.10</td>\n",
       "      <td>VOC</td>\n",
       "    </tr>\n",
       "    <tr>\n",
       "      <th>19</th>\n",
       "      <td>AY.11</td>\n",
       "      <td>VOC</td>\n",
       "    </tr>\n",
       "    <tr>\n",
       "      <th>20</th>\n",
       "      <td>AY.12</td>\n",
       "      <td>VOC</td>\n",
       "    </tr>\n",
       "    <tr>\n",
       "      <th>21</th>\n",
       "      <td>P.1</td>\n",
       "      <td>VOC</td>\n",
       "    </tr>\n",
       "    <tr>\n",
       "      <th>22</th>\n",
       "      <td>P.1.1</td>\n",
       "      <td>VOC</td>\n",
       "    </tr>\n",
       "    <tr>\n",
       "      <th>23</th>\n",
       "      <td>P.1.2</td>\n",
       "      <td>VOC</td>\n",
       "    </tr>\n",
       "  </tbody>\n",
       "</table>\n",
       "</div>"
      ],
      "text/plain": [
       "            0    1\n",
       "0     B.1.525  VOI\n",
       "1     B.1.526  VOI\n",
       "2   B.1.617.1  VOI\n",
       "3   B.1.617.3  VOI\n",
       "4     B.1.1.7  VOC\n",
       "5     B.1.351  VOC\n",
       "6   B.1.351.2  VOC\n",
       "7   B.1.351.3  VOC\n",
       "8   B.1.617.2  VOC\n",
       "9        AY.1  VOC\n",
       "10       AY.2  VOC\n",
       "11       AY.3  VOC\n",
       "12       AY.4  VOC\n",
       "13       AY.5  VOC\n",
       "14       AY.6  VOC\n",
       "15       AY.7  VOC\n",
       "16       AY.8  VOC\n",
       "17       AY.9  VOC\n",
       "18      AY.10  VOC\n",
       "19      AY.11  VOC\n",
       "20      AY.12  VOC\n",
       "21        P.1  VOC\n",
       "22      P.1.1  VOC\n",
       "23      P.1.2  VOC"
      ]
     },
     "execution_count": 19,
     "metadata": {},
     "output_type": "execute_result"
    }
   ],
   "source": [
    "#smush them together to create one dataframe for export\n",
    "all_df=voi_df.append(voc_df, ignore_index=True)\n",
    "all_df"
   ]
  },
  {
   "cell_type": "markdown",
   "metadata": {},
   "source": [
    "Date cell 1 was actually used for the project to record which day data was pulled. For purposes of this record, date was manually set to the date data was last pulled in Date cell 2, while Date cell 1 was commented out."
   ]
  },
  {
   "cell_type": "code",
   "execution_count": 20,
   "metadata": {},
   "outputs": [
    {
     "data": {
      "text/plain": [
       "'081821'"
      ]
     },
     "execution_count": 20,
     "metadata": {},
     "output_type": "execute_result"
    }
   ],
   "source": [
    "#Date cell 1\n",
    "\n",
    "#get the date of data collection\n",
    "#todayIs=datetime.date.today()\n",
    "#dataDate = todayIs.strftime(\"%m%d%y\")\n",
    "#dataDate"
   ]
  },
  {
   "cell_type": "code",
   "execution_count": 5,
   "metadata": {},
   "outputs": [
    {
     "data": {
      "text/plain": [
       "'081821'"
      ]
     },
     "execution_count": 5,
     "metadata": {},
     "output_type": "execute_result"
    }
   ],
   "source": [
    "#Date cell 2\n",
    "dataDate=(\"081821\")\n",
    "dataDate"
   ]
  },
  {
   "cell_type": "code",
   "execution_count": 6,
   "metadata": {},
   "outputs": [
    {
     "data": {
      "text/plain": [
       "'<your_filepath>081821.csv'"
      ]
     },
     "execution_count": 6,
     "metadata": {},
     "output_type": "execute_result"
    }
   ],
   "source": [
    "#add date of data collection to get the file name before saving\n",
    "#change <your_filepath> to actual desired file path\n",
    "file_list = [\"<your_filepath>\",dataDate,\".csv\"]\n",
    "filename=\"\".join(file_list)\n",
    "filename"
   ]
  },
  {
   "cell_type": "code",
   "execution_count": 22,
   "metadata": {},
   "outputs": [],
   "source": [
    "#write file for later\n",
    "all_df.to_csv(filename)"
   ]
  }
 ],
 "metadata": {
  "kernelspec": {
   "display_name": "Python 3",
   "language": "python",
   "name": "python3"
  },
  "language_info": {
   "codemirror_mode": {
    "name": "ipython",
    "version": 3
   },
   "file_extension": ".py",
   "mimetype": "text/x-python",
   "name": "python",
   "nbconvert_exporter": "python",
   "pygments_lexer": "ipython3",
   "version": "3.8.3"
  }
 },
 "nbformat": 4,
 "nbformat_minor": 4
}
