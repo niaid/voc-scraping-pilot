{
 "cells": [
  {
   "cell_type": "markdown",
   "metadata": {},
   "source": [
    "This script was last run on September 3, 2021-- website structures likely do not look the same today and code will not output the same results if re-run. It scrapes SARS-CoV-2 variant threat level lists from outbreak.info and exports their names and VOI/VOC/VUM status as a .csv to a specified file. \n",
    "\n",
    "Before running this script, download the appropriate webdriver to allow selenium to interact with the site. Webdriver information can be found here: (https://www.selenium.dev/documentation/webdriver/getting_started/install_drivers/_)."
   ]
  },
  {
   "cell_type": "code",
   "execution_count": 1,
   "metadata": {},
   "outputs": [],
   "source": [
    "#call packages\n",
    "import urllib\n",
    "from bs4 import BeautifulSoup\n",
    "from selenium import webdriver\n",
    "import time\n",
    "import pandas as pd\n",
    "import datetime"
   ]
  },
  {
   "cell_type": "code",
   "execution_count": 2,
   "metadata": {},
   "outputs": [],
   "source": [
    "#open and collect data from voc table\n",
    "#before running, replace <driver_path> with the filepath where your webdriver is saved\n",
    "\n",
    "#set url\n",
    "url=\"https://outbreak.info/situation-reports#voc\"\n",
    "\n",
    "#set webdriver and get data\n",
    "driver = webdriver.Chrome(executable_path = '<driver_path>')\n",
    "driver.get(url)\n",
    "\n",
    "#scroll and wait for page to load\n",
    "driver.execute_script(\"window.scrollTo(0, document.body.scrollHeight);var lenOfPage=document.body.scrollHeight;return lenOfPage;\")\n",
    "time.sleep(30)\n",
    "\n",
    "#use bs4 to parse html and pull the first table\n",
    "soup_voc = BeautifulSoup(driver.page_source, 'lxml')\n",
    "table_voc = soup_voc.find('table')\n",
    "\n",
    "#close webpage\n",
    "driver.quit()"
   ]
  },
  {
   "cell_type": "code",
   "execution_count": 10,
   "metadata": {},
   "outputs": [
    {
     "data": {
      "text/plain": [
       "['B.1.617.2', 'B.1.1.7', 'B.1.351', 'P.1']"
      ]
     },
     "execution_count": 10,
     "metadata": {},
     "output_type": "execute_result"
    }
   ],
   "source": [
    "#extract voc names from table\n",
    "voc_names=[]\n",
    "for i in table_voc.find_all(\"h4\"):\n",
    "    voc_names.append(i.get_text().strip())\n",
    "voc_names "
   ]
  },
  {
   "cell_type": "code",
   "execution_count": 33,
   "metadata": {},
   "outputs": [
    {
     "data": {
      "text/html": [
       "<div>\n",
       "<style scoped>\n",
       "    .dataframe tbody tr th:only-of-type {\n",
       "        vertical-align: middle;\n",
       "    }\n",
       "\n",
       "    .dataframe tbody tr th {\n",
       "        vertical-align: top;\n",
       "    }\n",
       "\n",
       "    .dataframe thead th {\n",
       "        text-align: right;\n",
       "    }\n",
       "</style>\n",
       "<table border=\"1\" class=\"dataframe\">\n",
       "  <thead>\n",
       "    <tr style=\"text-align: right;\">\n",
       "      <th></th>\n",
       "      <th>0</th>\n",
       "      <th>1</th>\n",
       "    </tr>\n",
       "  </thead>\n",
       "  <tbody>\n",
       "    <tr>\n",
       "      <th>0</th>\n",
       "      <td>B.1.617.2</td>\n",
       "      <td>VOC</td>\n",
       "    </tr>\n",
       "    <tr>\n",
       "      <th>1</th>\n",
       "      <td>B.1.1.7</td>\n",
       "      <td>VOC</td>\n",
       "    </tr>\n",
       "    <tr>\n",
       "      <th>2</th>\n",
       "      <td>B.1.351</td>\n",
       "      <td>VOC</td>\n",
       "    </tr>\n",
       "    <tr>\n",
       "      <th>3</th>\n",
       "      <td>P.1</td>\n",
       "      <td>VOC</td>\n",
       "    </tr>\n",
       "  </tbody>\n",
       "</table>\n",
       "</div>"
      ],
      "text/plain": [
       "           0    1\n",
       "0  B.1.617.2  VOC\n",
       "1    B.1.1.7  VOC\n",
       "2    B.1.351  VOC\n",
       "3        P.1  VOC"
      ]
     },
     "execution_count": 33,
     "metadata": {},
     "output_type": "execute_result"
    }
   ],
   "source": [
    "#make VOC data frame with column VOC\n",
    "voc_col=list([\"VOC\"]*len(voc_names))\n",
    "\n",
    "voc_df=pd.DataFrame([voc_names,voc_col]).transpose()\n",
    "voc_df"
   ]
  },
  {
   "cell_type": "code",
   "execution_count": 12,
   "metadata": {},
   "outputs": [
    {
     "data": {
      "text/plain": [
       "['Delta',\n",
       " 'B.1.617.2',\n",
       " 'AY.1',\n",
       " 'AY.2',\n",
       " 'AY.3',\n",
       " 'AY.3.1',\n",
       " 'AY.4',\n",
       " 'AY.5',\n",
       " 'AY.5.1',\n",
       " 'AY.5.2',\n",
       " 'AY.6',\n",
       " 'AY.7',\n",
       " 'AY.7.1',\n",
       " 'AY.7.2',\n",
       " 'AY.8',\n",
       " 'AY.9',\n",
       " 'AY.10',\n",
       " 'AY.11',\n",
       " 'AY.12',\n",
       " 'AY.13',\n",
       " 'AY.14',\n",
       " 'AY.15',\n",
       " 'AY.16',\n",
       " 'AY.17',\n",
       " 'AY.18',\n",
       " 'AY.19',\n",
       " 'AY.20',\n",
       " 'AY.21',\n",
       " 'AY.22',\n",
       " '(read more)',\n",
       " 'B.1.617.1',\n",
       " 'B.1.617.3',\n",
       " '14 Jun 2021',\n",
       " '24 May 2021',\n",
       " '06 May 2021',\n",
       " '11 May 2021',\n",
       " 'Compare sublineages',\n",
       " 'Alpha',\n",
       " 'B.1.1.7',\n",
       " 'Q.1',\n",
       " 'Q.2',\n",
       " 'Q.3',\n",
       " 'Q.4',\n",
       " 'report',\n",
       " '29 Dec 2020',\n",
       " '18 Dec 2020',\n",
       " '18 Dec 2020',\n",
       " 'Compare sublineages',\n",
       " 'Beta',\n",
       " 'B.1.351',\n",
       " 'B.1.351.1',\n",
       " 'B.1.351.2',\n",
       " 'B.1.351.3',\n",
       " 'B.1.351.4',\n",
       " 'report',\n",
       " '29 Dec 2020',\n",
       " '24 Dec 2020',\n",
       " '18 Dec 2020',\n",
       " 'Compare sublineages',\n",
       " 'Gamma',\n",
       " 'P.1',\n",
       " 'P.1.1',\n",
       " 'P.1.2',\n",
       " 'P.1.3',\n",
       " 'P.1.4',\n",
       " 'P.1.5',\n",
       " 'P.1.6',\n",
       " 'P.1.7',\n",
       " 'P.1.8',\n",
       " 'P.1.9',\n",
       " 'P.1.10',\n",
       " 'P.1.10.1',\n",
       " 'P.1.10.2',\n",
       " 'P.2',\n",
       " 'P.3',\n",
       " 'report',\n",
       " 'report',\n",
       " '13 Jan 2021',\n",
       " '11 Jan 2021',\n",
       " 'Compare sublineages']"
      ]
     },
     "execution_count": 12,
     "metadata": {},
     "output_type": "execute_result"
    }
   ],
   "source": [
    "#now they differentiate lineages and sublineages-- the following code pulls sublineages\n",
    "voc_sub_names=[]\n",
    "for i in table_voc.find_all(\"a\"):\n",
    "    voc_sub_names.append(i.get_text().strip())\n",
    "voc_sub_names \n",
    "#will come back and clean up if we want to keep this"
   ]
  },
  {
   "cell_type": "code",
   "execution_count": 13,
   "metadata": {},
   "outputs": [
    {
     "name": "stdout",
     "output_type": "stream",
     "text": [
      "you found the html! good job!\n"
     ]
    }
   ],
   "source": [
    "#open and collect data from voi table\n",
    "#before running, replace <driver_path> with the filepath where your webdriver is saved\n",
    "\n",
    "#set url\n",
    "url=\"https://outbreak.info/situation-reports#voc\"\n",
    "\n",
    "#set webdriver and get data\n",
    "driver = webdriver.Chrome(executable_path = '<driver_path>')\n",
    "driver.get(url)\n",
    "\n",
    "#scroll and wait for page to load\n",
    "driver.execute_script(\"window.scrollTo(0, document.body.scrollHeight);var lenOfPage=document.body.scrollHeight;return lenOfPage;\")\n",
    "time.sleep(60)\n",
    "\n",
    "#find voi table by xpath\n",
    "xpath_tab=driver.find_element_by_xpath('//*[@id=\"voi-reports\"]/table')\n",
    "#extract html from element\n",
    "tab_html_out=xpath_tab.get_attribute('outerHTML')\n",
    "\n",
    "#close webpage\n",
    "driver.quit()\n",
    "\n",
    "#check stuff exists\n",
    "try:\n",
    "    tab_html_out\n",
    "except NameError:\n",
    "    print(\"you didn't find it\")\n",
    "else:\n",
    "    print(\"you found the html! good job!\")\n"
   ]
  },
  {
   "cell_type": "code",
   "execution_count": 14,
   "metadata": {},
   "outputs": [
    {
     "data": {
      "text/plain": [
       "['B.1.525',\n",
       " 'B.1.526',\n",
       " 'B.1.617.1',\n",
       " 'C.37',\n",
       " 'B.1.621',\n",
       " 'P.3',\n",
       " 'P.2',\n",
       " 'B.1.1.318',\n",
       " 'C.36.3']"
      ]
     },
     "execution_count": 14,
     "metadata": {},
     "output_type": "execute_result"
    }
   ],
   "source": [
    "#convert voi html to bs4 object\n",
    "soup_voi = BeautifulSoup(tab_html_out, 'lxml')\n",
    "\n",
    "#extract names from table\n",
    "voi_names=[]\n",
    "for i in soup_voi.find_all(\"h4\"):\n",
    "    voi_names.append(i.get_text().strip())\n",
    "voi_names "
   ]
  },
  {
   "cell_type": "code",
   "execution_count": 15,
   "metadata": {},
   "outputs": [
    {
     "data": {
      "text/plain": [
       "['Eta',\n",
       " 'Iota',\n",
       " 'Kappa',\n",
       " 'Lambda',\n",
       " 'Mu',\n",
       " 'Theta',\n",
       " 'Zeta',\n",
       " 'AV.1',\n",
       " 'B.1.1.318-related',\n",
       " 'B.1.617.3',\n",
       " 'C.36.3-related']"
      ]
     },
     "execution_count": 15,
     "metadata": {},
     "output_type": "execute_result"
    }
   ],
   "source": [
    "#missed AV.1, B.1.617.3 which are listed on site -- try to get by other means\n",
    "voi_names_addtl=[]\n",
    "for i in soup_voi.find_all(\"h3\"):\n",
    "    voi_names_addtl.append(i.get_text().strip())\n",
    "voi_names_addtl \n",
    "#unfortunately, brings in other text"
   ]
  },
  {
   "cell_type": "code",
   "execution_count": 32,
   "metadata": {},
   "outputs": [
    {
     "data": {
      "text/plain": [
       "['B.1.525',\n",
       " 'B.1.526',\n",
       " 'B.1.617.1',\n",
       " 'C.37',\n",
       " 'B.1.621',\n",
       " 'P.3',\n",
       " 'P.2',\n",
       " 'B.1.1.318',\n",
       " 'C.36.3',\n",
       " 'AV.1',\n",
       " 'B.1.617.3']"
      ]
     },
     "execution_count": 32,
     "metadata": {},
     "output_type": "execute_result"
    }
   ],
   "source": [
    "#instead just add manually\n",
    "voi_names=voi_names+['AV.1','B.1.617.3']\n",
    "voi_names"
   ]
  },
  {
   "cell_type": "code",
   "execution_count": 34,
   "metadata": {},
   "outputs": [
    {
     "data": {
      "text/html": [
       "<div>\n",
       "<style scoped>\n",
       "    .dataframe tbody tr th:only-of-type {\n",
       "        vertical-align: middle;\n",
       "    }\n",
       "\n",
       "    .dataframe tbody tr th {\n",
       "        vertical-align: top;\n",
       "    }\n",
       "\n",
       "    .dataframe thead th {\n",
       "        text-align: right;\n",
       "    }\n",
       "</style>\n",
       "<table border=\"1\" class=\"dataframe\">\n",
       "  <thead>\n",
       "    <tr style=\"text-align: right;\">\n",
       "      <th></th>\n",
       "      <th>0</th>\n",
       "      <th>1</th>\n",
       "    </tr>\n",
       "  </thead>\n",
       "  <tbody>\n",
       "    <tr>\n",
       "      <th>0</th>\n",
       "      <td>B.1.525</td>\n",
       "      <td>VOI</td>\n",
       "    </tr>\n",
       "    <tr>\n",
       "      <th>1</th>\n",
       "      <td>B.1.526</td>\n",
       "      <td>VOI</td>\n",
       "    </tr>\n",
       "    <tr>\n",
       "      <th>2</th>\n",
       "      <td>B.1.617.1</td>\n",
       "      <td>VOI</td>\n",
       "    </tr>\n",
       "    <tr>\n",
       "      <th>3</th>\n",
       "      <td>C.37</td>\n",
       "      <td>VOI</td>\n",
       "    </tr>\n",
       "    <tr>\n",
       "      <th>4</th>\n",
       "      <td>B.1.621</td>\n",
       "      <td>VOI</td>\n",
       "    </tr>\n",
       "    <tr>\n",
       "      <th>5</th>\n",
       "      <td>P.3</td>\n",
       "      <td>VOI</td>\n",
       "    </tr>\n",
       "    <tr>\n",
       "      <th>6</th>\n",
       "      <td>P.2</td>\n",
       "      <td>VOI</td>\n",
       "    </tr>\n",
       "    <tr>\n",
       "      <th>7</th>\n",
       "      <td>B.1.1.318</td>\n",
       "      <td>VOI</td>\n",
       "    </tr>\n",
       "    <tr>\n",
       "      <th>8</th>\n",
       "      <td>C.36.3</td>\n",
       "      <td>VOI</td>\n",
       "    </tr>\n",
       "    <tr>\n",
       "      <th>9</th>\n",
       "      <td>AV.1</td>\n",
       "      <td>VOI</td>\n",
       "    </tr>\n",
       "    <tr>\n",
       "      <th>10</th>\n",
       "      <td>B.1.617.3</td>\n",
       "      <td>VOI</td>\n",
       "    </tr>\n",
       "  </tbody>\n",
       "</table>\n",
       "</div>"
      ],
      "text/plain": [
       "            0    1\n",
       "0     B.1.525  VOI\n",
       "1     B.1.526  VOI\n",
       "2   B.1.617.1  VOI\n",
       "3        C.37  VOI\n",
       "4     B.1.621  VOI\n",
       "5         P.3  VOI\n",
       "6         P.2  VOI\n",
       "7   B.1.1.318  VOI\n",
       "8      C.36.3  VOI\n",
       "9        AV.1  VOI\n",
       "10  B.1.617.3  VOI"
      ]
     },
     "execution_count": 34,
     "metadata": {},
     "output_type": "execute_result"
    }
   ],
   "source": [
    "#make VOI data frame with column VOI\n",
    "voi_col=list([\"VOI\"]*len(voi_names))\n",
    "\n",
    "voi_df=pd.DataFrame([voi_names,voi_col]).transpose()\n",
    "voi_df"
   ]
  },
  {
   "cell_type": "code",
   "execution_count": 35,
   "metadata": {},
   "outputs": [
    {
     "data": {
      "text/html": [
       "<div>\n",
       "<style scoped>\n",
       "    .dataframe tbody tr th:only-of-type {\n",
       "        vertical-align: middle;\n",
       "    }\n",
       "\n",
       "    .dataframe tbody tr th {\n",
       "        vertical-align: top;\n",
       "    }\n",
       "\n",
       "    .dataframe thead th {\n",
       "        text-align: right;\n",
       "    }\n",
       "</style>\n",
       "<table border=\"1\" class=\"dataframe\">\n",
       "  <thead>\n",
       "    <tr style=\"text-align: right;\">\n",
       "      <th></th>\n",
       "      <th>0</th>\n",
       "      <th>1</th>\n",
       "    </tr>\n",
       "  </thead>\n",
       "  <tbody>\n",
       "    <tr>\n",
       "      <th>0</th>\n",
       "      <td>B.1.525</td>\n",
       "      <td>VOI</td>\n",
       "    </tr>\n",
       "    <tr>\n",
       "      <th>1</th>\n",
       "      <td>B.1.526</td>\n",
       "      <td>VOI</td>\n",
       "    </tr>\n",
       "    <tr>\n",
       "      <th>2</th>\n",
       "      <td>B.1.617.1</td>\n",
       "      <td>VOI</td>\n",
       "    </tr>\n",
       "    <tr>\n",
       "      <th>3</th>\n",
       "      <td>C.37</td>\n",
       "      <td>VOI</td>\n",
       "    </tr>\n",
       "    <tr>\n",
       "      <th>4</th>\n",
       "      <td>B.1.621</td>\n",
       "      <td>VOI</td>\n",
       "    </tr>\n",
       "    <tr>\n",
       "      <th>5</th>\n",
       "      <td>P.3</td>\n",
       "      <td>VOI</td>\n",
       "    </tr>\n",
       "    <tr>\n",
       "      <th>6</th>\n",
       "      <td>P.2</td>\n",
       "      <td>VOI</td>\n",
       "    </tr>\n",
       "    <tr>\n",
       "      <th>7</th>\n",
       "      <td>B.1.1.318</td>\n",
       "      <td>VOI</td>\n",
       "    </tr>\n",
       "    <tr>\n",
       "      <th>8</th>\n",
       "      <td>C.36.3</td>\n",
       "      <td>VOI</td>\n",
       "    </tr>\n",
       "    <tr>\n",
       "      <th>9</th>\n",
       "      <td>AV.1</td>\n",
       "      <td>VOI</td>\n",
       "    </tr>\n",
       "    <tr>\n",
       "      <th>10</th>\n",
       "      <td>B.1.617.3</td>\n",
       "      <td>VOI</td>\n",
       "    </tr>\n",
       "    <tr>\n",
       "      <th>11</th>\n",
       "      <td>B.1.617.2</td>\n",
       "      <td>VOC</td>\n",
       "    </tr>\n",
       "    <tr>\n",
       "      <th>12</th>\n",
       "      <td>B.1.1.7</td>\n",
       "      <td>VOC</td>\n",
       "    </tr>\n",
       "    <tr>\n",
       "      <th>13</th>\n",
       "      <td>B.1.351</td>\n",
       "      <td>VOC</td>\n",
       "    </tr>\n",
       "    <tr>\n",
       "      <th>14</th>\n",
       "      <td>P.1</td>\n",
       "      <td>VOC</td>\n",
       "    </tr>\n",
       "  </tbody>\n",
       "</table>\n",
       "</div>"
      ],
      "text/plain": [
       "            0    1\n",
       "0     B.1.525  VOI\n",
       "1     B.1.526  VOI\n",
       "2   B.1.617.1  VOI\n",
       "3        C.37  VOI\n",
       "4     B.1.621  VOI\n",
       "5         P.3  VOI\n",
       "6         P.2  VOI\n",
       "7   B.1.1.318  VOI\n",
       "8      C.36.3  VOI\n",
       "9        AV.1  VOI\n",
       "10  B.1.617.3  VOI\n",
       "11  B.1.617.2  VOC\n",
       "12    B.1.1.7  VOC\n",
       "13    B.1.351  VOC\n",
       "14        P.1  VOC"
      ]
     },
     "execution_count": 35,
     "metadata": {},
     "output_type": "execute_result"
    }
   ],
   "source": [
    "#combine to create one dataframe for export\n",
    "all_df=voi_df.append(voc_df, ignore_index=True)\n",
    "all_df"
   ]
  },
  {
   "cell_type": "markdown",
   "metadata": {},
   "source": [
    "Date cell 1 was actually used for the project to record which day data was pulled. For purposes of this record, date was manually set to the date data was last pulled in Date cell 2, while Date cell 1 was commented out."
   ]
  },
  {
   "cell_type": "code",
   "execution_count": 36,
   "metadata": {},
   "outputs": [
    {
     "data": {
      "text/plain": [
       "'090321'"
      ]
     },
     "execution_count": 36,
     "metadata": {},
     "output_type": "execute_result"
    }
   ],
   "source": [
    "#Date cell 1\n",
    "\n",
    "#get the date of data collection\n",
    "#todayIs=datetime.date.today()\n",
    "#dataDate = todayIs.strftime(\"%m%d%y\")\n",
    "#dataDate"
   ]
  },
  {
   "cell_type": "code",
   "execution_count": null,
   "metadata": {},
   "outputs": [],
   "source": [
    "#Date cell 2\n",
    "dataDate=(\"090321\")\n",
    "dataDate"
   ]
  },
  {
   "cell_type": "code",
   "execution_count": null,
   "metadata": {},
   "outputs": [],
   "source": [
    "#add date of data collection to get the file name before saving\n",
    "#change <your_filepath> to actual desired file path\n",
    "file_list = [\"<your_filepath>\",dataDate,\".csv\"]\n",
    "filename=\"\".join(file_list)\n",
    "filename"
   ]
  },
  {
   "cell_type": "code",
   "execution_count": 14,
   "metadata": {},
   "outputs": [],
   "source": [
    "#write file for later\n",
    "all_df.to_csv(filename)"
   ]
  }
 ],
 "metadata": {
  "kernelspec": {
   "display_name": "Python 3",
   "language": "python",
   "name": "python3"
  },
  "language_info": {
   "codemirror_mode": {
    "name": "ipython",
    "version": 3
   },
   "file_extension": ".py",
   "mimetype": "text/x-python",
   "name": "python",
   "nbconvert_exporter": "python",
   "pygments_lexer": "ipython3",
   "version": "3.8.3"
  }
 },
 "nbformat": 4,
 "nbformat_minor": 4
}
